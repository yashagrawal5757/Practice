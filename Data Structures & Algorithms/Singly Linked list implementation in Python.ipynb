{
 "cells": [
  {
   "cell_type": "code",
   "execution_count": 1,
   "id": "7a66935d",
   "metadata": {},
   "outputs": [],
   "source": [
    "import numpy as np"
   ]
  },
  {
   "cell_type": "markdown",
   "id": "3e8aefe1",
   "metadata": {},
   "source": [
    "### creating a single linked list"
   ]
  },
  {
   "cell_type": "markdown",
   "id": "42d8014f",
   "metadata": {},
   "source": [
    "#### initializing & printing elements of a  linked list"
   ]
  },
  {
   "cell_type": "code",
   "execution_count": 2,
   "id": "74645e7c",
   "metadata": {},
   "outputs": [
    {
     "name": "stdout",
     "output_type": "stream",
     "text": [
      "Empty linked list\n",
      "\n",
      " Lets start creating a linked list\n",
      "Adding 1st node\n",
      "1st node value is 10\n",
      "Currently the 1st node is pointing at  None\n",
      "\n",
      "Adding 2nd node\n",
      "2nd node value is 20\n",
      "Currently the 2nd node is pointing at None, while the first node is pointinng at <__main__.Node object at 0x0000023384B0EF10> \n",
      "\n",
      " Printing linkedlist contents:\n",
      "10\n",
      "20\n"
     ]
    }
   ],
   "source": [
    "# You use the class Node to make any node. So initially next will be Null. \n",
    "class Node:  # to create nodes at any step \n",
    "    def __init__(self,data):\n",
    "        self.data =  data\n",
    "        self.next = None\n",
    "   \n",
    "#creating a singly linked list involves a head pointer\n",
    "class SLL:  # to create a linked list. will be called once\n",
    "    def __init__(self):\n",
    "        self.head = None    #initially when linked list is empty, head will be pointing no where. \n",
    "        \n",
    "    def display(self):\n",
    "        # if it is an empty linked list\n",
    "        if self.head is None:\n",
    "            print(\"Empty linked list\")\n",
    "            return\n",
    "        else:  #there are some elements in that linked list. We need to traverse and print data for those\n",
    "            # We create a temp variable for traversing which will initially point to head which would be pointing at first node\n",
    "            temp = self.head\n",
    "            while temp:  #while temp is pointing to a node \n",
    "                print(temp.data)\n",
    "                #Point to next node so that next data can be printed\n",
    "                temp = temp.next\n",
    "        \n",
    "# 1. CREATING A SINGLE LINKED LIST        \n",
    "        \n",
    "linkedlist = SLL()\n",
    "# check if its printing empty linked list or not\n",
    "linkedlist.display()\n",
    "# Lets create a node\n",
    "print(\"\\n Lets start creating a linked list\")\n",
    "\n",
    "# 2. ADDING NODES IN A SINGLE LINKED LIST\n",
    "\n",
    "print(\"Adding 1st node\")\n",
    "node = Node(data = 10)\n",
    "print(\"1st node value is\" ,node.data)  \n",
    "print(\"Currently the 1st node is pointing at \",node.next)\n",
    "# assign head of linked list to be pointing to first node\n",
    "linkedlist.head = node\n",
    "\n",
    "\n",
    "print(\"\\nAdding 2nd node\")\n",
    "# create 2nd node\n",
    "node2 = Node(data = 20)\n",
    "print(\"2nd node value is\" ,node2.data)  \n",
    "# assign memory address of node 2 in next of node1\n",
    "node.next = node2\n",
    "print(\"Currently the 2nd node is pointing at {}, while the first node is pointinng at {} \".format(node2.next, node.next))\n",
    "\n",
    "\n",
    "# 3. DISPLAYING SINGLE LINKED LIST\n",
    "\n",
    "#Printing linkedlist contents:\n",
    "print(\"\\n Printing linkedlist contents:\")\n",
    "linkedlist.display()\n",
    "\n"
   ]
  },
  {
   "cell_type": "markdown",
   "id": "f620c176",
   "metadata": {},
   "source": [
    "### Insertion in a Single linked list\n",
    "#### A) Beginning  B) End  C) At a specific position"
   ]
  },
  {
   "cell_type": "code",
   "execution_count": 3,
   "id": "50dfbf1f",
   "metadata": {},
   "outputs": [
    {
     "name": "stdout",
     "output_type": "stream",
     "text": [
      "50\n",
      "10\n",
      "20\n"
     ]
    }
   ],
   "source": [
    "# Insert at Beginning\n",
    "\n",
    "#Add 50 to beginning\n",
    "new_node = Node(data = 50)  # create a new node\n",
    "# Make the new node point to current head which was old 1st node\n",
    "new_node.next = linkedlist.head\n",
    "# Move head pointer to point at new first node\n",
    "linkedlist.head = new_node\n",
    "# Print contents of list\n",
    "linkedlist.display()"
   ]
  },
  {
   "cell_type": "code",
   "execution_count": 4,
   "id": "1b1563be",
   "metadata": {},
   "outputs": [
    {
     "name": "stdout",
     "output_type": "stream",
     "text": [
      "50\n",
      "10\n",
      "20\n",
      "60\n"
     ]
    }
   ],
   "source": [
    "# Insert at the end\n",
    "\n",
    "#add 60 to end\n",
    "# create a new node\n",
    "node_end = Node(data = 60)\n",
    "\n",
    "# you need a temp variable to traverse and reach till currently last node\n",
    "temp = linkedlist.head\n",
    "while temp.next is not None:\n",
    "    temp = temp.next\n",
    "# temp is currently at last. Now we just make its next as new node's address\n",
    "temp.next = node_end\n",
    "\n",
    "linkedlist.display()"
   ]
  },
  {
   "cell_type": "code",
   "execution_count": 5,
   "id": "938528e9",
   "metadata": {},
   "outputs": [
    {
     "name": "stdout",
     "output_type": "stream",
     "text": [
      "50\n",
      "10\n",
      "20\n",
      "35\n",
      "60\n"
     ]
    }
   ],
   "source": [
    "## Insert at a specific position\n",
    "\n",
    "# Current linkedlist\n",
    "# 10 [addr = 1000] -> 20[1100]  -> 30[1200]  -> 40[None]\n",
    "#Insert value 35 at position 3\n",
    "\n",
    "pos = 3\n",
    "\n",
    "node_3 = Node(data = 35)\n",
    "\n",
    "#we create a temp varianle. take it to 30. It has next of 1200. Make that as next of your new node\n",
    "temp = linkedlist.head\n",
    "for i in range(0,pos-1):\n",
    "    temp = temp.next  # temp is at 30\n",
    "node_3.next = temp.next #1300\n",
    "temp.next = node_3  #1250\n",
    "\n",
    "linkedlist.display()\n",
    "# 35 is there at 3rd index or 4th position"
   ]
  },
  {
   "cell_type": "markdown",
   "id": "819bf59b",
   "metadata": {},
   "source": [
    "### Deletion in a Single linked list"
   ]
  },
  {
   "cell_type": "markdown",
   "id": "b3c5aca4",
   "metadata": {},
   "source": [
    "#### A) Beginning B) End C) At a specific position"
   ]
  },
  {
   "cell_type": "code",
   "execution_count": 6,
   "id": "dfdd0cb8",
   "metadata": {},
   "outputs": [
    {
     "name": "stdout",
     "output_type": "stream",
     "text": [
      "10\n",
      "20\n",
      "35\n",
      "60\n"
     ]
    }
   ],
   "source": [
    "# Beginning\n",
    "#Initialize a temp pointer - make next node as head - make temp.next = None to disconnect\n",
    "temp = linkedlist.head\n",
    "linkedlist.head = temp.next\n",
    "temp.next = None\n",
    "linkedlist.display()"
   ]
  },
  {
   "cell_type": "code",
   "execution_count": 7,
   "id": "ff379b91",
   "metadata": {},
   "outputs": [
    {
     "name": "stdout",
     "output_type": "stream",
     "text": [
      "10\n",
      "20\n",
      "35\n"
     ]
    }
   ],
   "source": [
    "## End\n",
    "\n",
    "# You have to use 2 variables - temp and prev. \n",
    "# Logic is to reach one node before final using temp and make its next as None\n",
    "# Point prev to 1st node initially and temp to second node\n",
    "\n",
    "prev = linkedlist.head\n",
    "temp = linkedlist.head.next\n",
    "while temp.next is not None:\n",
    "    temp = temp.next\n",
    "    prev = prev.next\n",
    "prev.next = None\n",
    "\n",
    "linkedlist.display()\n"
   ]
  },
  {
   "cell_type": "code",
   "execution_count": 8,
   "id": "23deb12c",
   "metadata": {},
   "outputs": [
    {
     "name": "stdout",
     "output_type": "stream",
     "text": [
      "10\n",
      "35\n"
     ]
    }
   ],
   "source": [
    "## Specific position\n",
    "\n",
    "# You have to use 2 variables - temp and prev. \n",
    "# Logic is to reach one node before final using temp and make its next as None\n",
    "# Point prev to 1st node initially and temp to second node\n",
    "pos = 2\n",
    "prev = linkedlist.head\n",
    "temp = linkedlist.head.next\n",
    "\n",
    "for i in range(1,pos-1):\n",
    "    temp = temp.next\n",
    "    prev = prev.next\n",
    "prev.next = temp.next\n",
    "temp.next = None\n",
    "\n",
    "linkedlist.display()\n"
   ]
  },
  {
   "cell_type": "code",
   "execution_count": null,
   "id": "db76131b",
   "metadata": {},
   "outputs": [],
   "source": []
  }
 ],
 "metadata": {
  "kernelspec": {
   "display_name": "Python 3 (ipykernel)",
   "language": "python",
   "name": "python3"
  },
  "language_info": {
   "codemirror_mode": {
    "name": "ipython",
    "version": 3
   },
   "file_extension": ".py",
   "mimetype": "text/x-python",
   "name": "python",
   "nbconvert_exporter": "python",
   "pygments_lexer": "ipython3",
   "version": "3.8.3"
  }
 },
 "nbformat": 4,
 "nbformat_minor": 5
}
