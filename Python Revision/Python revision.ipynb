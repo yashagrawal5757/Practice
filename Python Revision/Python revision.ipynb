{
 "cells": [
  {
   "cell_type": "markdown",
   "metadata": {},
   "source": [
    "### Welcome to python\n",
    "- use hyphen to make bullet\n",
    "- Inserting a cell. After that press esc+a to repeat operation"
   ]
  },
  {
   "cell_type": "code",
   "execution_count": 1,
   "metadata": {},
   "outputs": [
    {
     "data": {
      "text/plain": [
       "'strstrstrstrstrstrstrstrstrstr'"
      ]
     },
     "execution_count": 1,
     "metadata": {},
     "output_type": "execute_result"
    }
   ],
   "source": [
    "10 * 'str'"
   ]
  },
  {
   "cell_type": "markdown",
   "metadata": {},
   "source": [
    "## type used to check datatype of item"
   ]
  },
  {
   "cell_type": "code",
   "execution_count": 2,
   "metadata": {},
   "outputs": [
    {
     "data": {
      "text/plain": [
       "int"
      ]
     },
     "execution_count": 2,
     "metadata": {},
     "output_type": "execute_result"
    }
   ],
   "source": [
    "type(2)"
   ]
  },
  {
   "cell_type": "code",
   "execution_count": 3,
   "metadata": {},
   "outputs": [
    {
     "data": {
      "text/plain": [
       "float"
      ]
     },
     "execution_count": 3,
     "metadata": {},
     "output_type": "execute_result"
    }
   ],
   "source": [
    "type(2.0)"
   ]
  },
  {
   "cell_type": "code",
   "execution_count": 4,
   "metadata": {},
   "outputs": [
    {
     "data": {
      "text/plain": [
       "bool"
      ]
     },
     "execution_count": 4,
     "metadata": {},
     "output_type": "execute_result"
    }
   ],
   "source": [
    "type(False)"
   ]
  },
  {
   "cell_type": "code",
   "execution_count": 8,
   "metadata": {},
   "outputs": [
    {
     "name": "stdout",
     "output_type": "stream",
     "text": [
      "50\n",
      "9765625\n",
      "-3.0\n"
     ]
    }
   ],
   "source": [
    "a=5\n",
    "b=10\n",
    "print(a*b)\n",
    "print(a**b)\n",
    "print((a+b)/(a-b))"
   ]
  },
  {
   "cell_type": "markdown",
   "metadata": {},
   "source": [
    "# Use shift tab before bracket to know more info about in built function usage"
   ]
  },
  {
   "cell_type": "markdown",
   "metadata": {},
   "source": [
    "## Formatting strings\n",
    "\n",
    "#### format (value,specification) method returns a representation of a value according to a specification"
   ]
  },
  {
   "cell_type": "code",
   "execution_count": 43,
   "metadata": {},
   "outputs": [
    {
     "data": {
      "text/plain": [
       "'45.000000'"
      ]
     },
     "execution_count": 43,
     "metadata": {},
     "output_type": "execute_result"
    }
   ],
   "source": [
    "format(45, 'f')\n",
    "#Here 45 is the value. f means float is the kind of specification asked. format() returns 45 in a floating point"
   ]
  },
  {
   "cell_type": "code",
   "execution_count": 9,
   "metadata": {},
   "outputs": [],
   "source": [
    "first_name = \"Yash\"\n",
    "last_name = \"Agrawal\""
   ]
  },
  {
   "cell_type": "code",
   "execution_count": 10,
   "metadata": {},
   "outputs": [
    {
     "name": "stdout",
     "output_type": "stream",
     "text": [
      "My first name is Yash and last name is Agrawal\n"
     ]
    }
   ],
   "source": [
    "print(\"My first name is {} and last name is {}\".format(\"Yash\",\"Agrawal\"))"
   ]
  },
  {
   "cell_type": "code",
   "execution_count": 11,
   "metadata": {},
   "outputs": [
    {
     "name": "stdout",
     "output_type": "stream",
     "text": [
      "My first name is 1 and last name is 2\n"
     ]
    }
   ],
   "source": [
    "print(\"My first name is {} and last name is {}\".format(1,2))"
   ]
  },
  {
   "cell_type": "code",
   "execution_count": 12,
   "metadata": {},
   "outputs": [
    {
     "name": "stdout",
     "output_type": "stream",
     "text": [
      "My first name is Agrawal and last name is Yash\n"
     ]
    }
   ],
   "source": [
    "print(\"My first name is {} and last name is {}\".format(\"Agrawal\",\"Yash\"))"
   ]
  },
  {
   "cell_type": "markdown",
   "metadata": {},
   "source": [
    "### As seen above, there is no way to mention the order. So to do that we use variables as placeholders"
   ]
  },
  {
   "cell_type": "code",
   "execution_count": 17,
   "metadata": {},
   "outputs": [
    {
     "name": "stdout",
     "output_type": "stream",
     "text": [
      "My first name is Yash and last name is Agrawal\n"
     ]
    }
   ],
   "source": [
    "print(\"My first name is {placeholder1} and last name is {variable2}\".format(variable2 = \"Agrawal\", placeholder1 =\"Yash\"))"
   ]
  },
  {
   "cell_type": "markdown",
   "metadata": {},
   "source": [
    "### as seen above even if you have placed the 2nd item first it would still be printed at right place since you used placeholder names"
   ]
  },
  {
   "cell_type": "code",
   "execution_count": 20,
   "metadata": {},
   "outputs": [
    {
     "name": "stdout",
     "output_type": "stream",
     "text": [
      "I can speak       4 languages\n"
     ]
    }
   ],
   "source": [
    "print(\"I can speak {number:7d} languages\".format(number=4))"
   ]
  },
  {
   "cell_type": "markdown",
   "metadata": {},
   "source": [
    "## In above example you can give datatype of item.\n",
    "d - double\n",
    "f - float\n",
    "i - integer"
   ]
  },
  {
   "cell_type": "code",
   "execution_count": 26,
   "metadata": {},
   "outputs": [
    {
     "name": "stdout",
     "output_type": "stream",
     "text": [
      "I can speak 4.000000 languages\n"
     ]
    }
   ],
   "source": [
    "print(\"I can speak {:f} languages\".format(4))"
   ]
  },
  {
   "cell_type": "code",
   "execution_count": 38,
   "metadata": {},
   "outputs": [
    {
     "name": "stdout",
     "output_type": "stream",
     "text": [
      "My weight is 95.000000 and i speak       4 languages\n"
     ]
    }
   ],
   "source": [
    "print(\"My weight is {:f} and i speak {:7d} languages\".format(95,4))"
   ]
  },
  {
   "cell_type": "code",
   "execution_count": 40,
   "metadata": {},
   "outputs": [
    {
     "name": "stdout",
     "output_type": "stream",
     "text": [
      "My weight is 95.000000 and i speak 4.000000 languages\n"
     ]
    }
   ],
   "source": [
    "print(\"My weight is {num1:f} and i speak {num2:7f} languages\".format(num2=4, num1 = 95))"
   ]
  },
  {
   "cell_type": "markdown",
   "metadata": {},
   "source": [
    "# Python datatypes"
   ]
  },
  {
   "cell_type": "markdown",
   "metadata": {},
   "source": [
    "# Bool"
   ]
  },
  {
   "cell_type": "code",
   "execution_count": 47,
   "metadata": {},
   "outputs": [
    {
     "data": {
      "text/plain": [
       "True"
      ]
     },
     "execution_count": 47,
     "metadata": {},
     "output_type": "execute_result"
    }
   ],
   "source": [
    "bool(True)"
   ]
  },
  {
   "cell_type": "code",
   "execution_count": 50,
   "metadata": {},
   "outputs": [
    {
     "data": {
      "text/plain": [
       "False"
      ]
     },
     "execution_count": 50,
     "metadata": {},
     "output_type": "execute_result"
    }
   ],
   "source": [
    "bool()\n",
    "#Returns true when argument is True else returns False"
   ]
  },
  {
   "cell_type": "code",
   "execution_count": 119,
   "metadata": {},
   "outputs": [
    {
     "data": {
      "text/plain": [
       "True"
      ]
     },
     "execution_count": 119,
     "metadata": {},
     "output_type": "execute_result"
    }
   ],
   "source": [
    "True or False"
   ]
  },
  {
   "cell_type": "code",
   "execution_count": 120,
   "metadata": {},
   "outputs": [
    {
     "data": {
      "text/plain": [
       "False"
      ]
     },
     "execution_count": 120,
     "metadata": {},
     "output_type": "execute_result"
    }
   ],
   "source": [
    "True and False"
   ]
  },
  {
   "cell_type": "markdown",
   "metadata": {},
   "source": [
    "# Strings"
   ]
  },
  {
   "cell_type": "markdown",
   "metadata": {},
   "source": [
    "### In buit methods of string\n",
    "https://www.w3schools.com/python/python_ref_string.asp"
   ]
  },
  {
   "cell_type": "code",
   "execution_count": 51,
   "metadata": {},
   "outputs": [],
   "source": [
    "str = \"Yash123\""
   ]
  },
  {
   "cell_type": "code",
   "execution_count": 72,
   "metadata": {},
   "outputs": [
    {
     "ename": "TypeError",
     "evalue": "slice indices must be integers or None or have an __index__ method",
     "output_type": "error",
     "traceback": [
      "\u001b[1;31m---------------------------------------------------------------------------\u001b[0m",
      "\u001b[1;31mTypeError\u001b[0m                                 Traceback (most recent call last)",
      "\u001b[1;32m<ipython-input-72-e5c23d420b68>\u001b[0m in \u001b[0;36m<module>\u001b[1;34m\u001b[0m\n\u001b[1;32m----> 1\u001b[1;33m \u001b[0mstr\u001b[0m\u001b[1;33m.\u001b[0m\u001b[0mfind\u001b[0m\u001b[1;33m(\u001b[0m\u001b[0mstr\u001b[0m\u001b[1;33m,\u001b[0m \u001b[1;34m'a'\u001b[0m\u001b[1;33m)\u001b[0m\u001b[1;33m\u001b[0m\u001b[1;33m\u001b[0m\u001b[0m\n\u001b[0m",
      "\u001b[1;31mTypeError\u001b[0m: slice indices must be integers or None or have an __index__ method"
     ]
    }
   ],
   "source": [
    "str.find(str, 'a')"
   ]
  },
  {
   "cell_type": "markdown",
   "metadata": {},
   "source": [
    "### Cases - \n",
    "- capitalize() - first charachter to uppercase\n",
    "- casefold() = whole string to lowercase\n",
    "- lower() - converts string to lowercase\n",
    "- upper()\n",
    "- islower() - True if all characters are lower cased\n",
    "- isupper() - True if all characters are upper cased\n",
    "- istitle() - True if string is title case\n",
    "- swapcase() - \n",
    "- title() - makes title cased\n",
    "\n",
    "### Position - \n",
    "- center() - returns centered string\n",
    "- ljust() - returns left justified version of string\n",
    "- rjust() - returns right justified version of string\n",
    "- endswith() - True if string ends with specified value\n",
    "- startswith()\n",
    "- find() - searches a specific value in the string and returns position of where it was found\n",
    "- rfind() - searches for a specific value in string and returns last position of where it was found\n",
    "- rindex() - same as rfind and diff bw find and index also apply here\n",
    "- index() - same as find() except it returns exception if value not found in string unlike find which returns -1\n",
    "- strip() - trimmed version of string\n",
    "- lstrip() - returns left trim version of string\n",
    "- rstrip() - returns right trim version of string\n",
    "\n",
    "\n",
    "\n",
    "### Alpha/digits\n",
    "- isalnum() - True if string contains both alpha+num\n",
    "- isalpha() - True if all characters are alphabets only\n",
    "- isascii() - True if all characters in string are ascii char\n",
    "- isdecimal() - True if all characters are digits (0-9) in unicode \n",
    "- isdigit() -  True if all characters are digits\n",
    "- isnumeric() -True if all characters are numeric \n",
    "#### is numeric can accept fractions,exponents,roman numerals if they are given in unicode whereas isdigit gives false for these characters. Both of em give false for whitespaces and dots though\n",
    "\n",
    "- isidentifier() - True id string is an identifier\n",
    "##### A string is considered a valid identifier if it only contains alphanumeric letters (a-z) and (0-9), or underscores (_). A valid identifier cannot start with a number, or contain any spaces.\n",
    "- isspace() - True if all characters are whitespaces\n",
    "\n",
    "\n",
    "\n",
    "### Count - \n",
    "- count(value,start,end) - returns number of times a value came in a string\n",
    " \n",
    "\n",
    "### Miscellaneous -\n",
    "- expandtabs() - sets tab size of string\n",
    "- format() - formats given value according to given specification\n",
    "- format_map() - same as format\n",
    "- join() - converts elements of iterable into string ->very useful for converting a list to string\n",
    "- maketrans() - returns a translation table to be used in translations\n",
    "- partition() - returns a tuple where string is partitioned into 3 parts\n",
    "- replace() - returns string where specified value is replaced by a specified value\n",
    "- split() - splits string at specified operator and returns a list\n",
    "- splitlines() - split string at line breaks and returns a list\n",
    "- translate() - returns translated string\n",
    "- zfill () - fills string with specified number of 0 values at beginning until it reaches given length\n",
    "- encode() - returns encoded value of string. Uses UTF 8 unless specific encoding is given\n",
    "\n",
    "\n",
    "\n",
    "\n"
   ]
  },
  {
   "cell_type": "markdown",
   "metadata": {},
   "source": [
    "## center(length,character)\n",
    "### returns new string with total length as length and center aligns the text in that length. If character is given, it fills the spaces with that character else default is space\n"
   ]
  },
  {
   "cell_type": "code",
   "execution_count": 68,
   "metadata": {},
   "outputs": [
    {
     "name": "stdout",
     "output_type": "stream",
     "text": [
      "      cricket       \n",
      "$$$$$$cricket$$$$$$$\n"
     ]
    }
   ],
   "source": [
    "x = 'cricket'\n",
    "print(x.center(20)) # total length of string is 20 and cricket is at center\n",
    "print(x.center(20,'$')) #left and right spaces were replaced by given character"
   ]
  },
  {
   "cell_type": "code",
   "execution_count": 84,
   "metadata": {},
   "outputs": [
    {
     "name": "stdout",
     "output_type": "stream",
     "text": [
      "cricket             \n",
      "20\n"
     ]
    }
   ],
   "source": [
    "print(x.ljust(20))\n",
    "#cricket justified to left and total length of string is 20\n",
    "print(len(x.ljust(20)))"
   ]
  },
  {
   "cell_type": "markdown",
   "metadata": {},
   "source": [
    "# find (value to be searched, start,end)\n",
    "### optionally you can specify start and end of the search\n",
    "## finds for beginning of a specific word and returns position of starting alphabet of the word in the string\n",
    "## returns -1 if not found\n",
    "\n",
    "# Index is same as find except it returns an exception if value not find"
   ]
  },
  {
   "cell_type": "code",
   "execution_count": 75,
   "metadata": {},
   "outputs": [
    {
     "name": "stdout",
     "output_type": "stream",
     "text": [
      "4\n",
      "-1\n"
     ]
    }
   ],
   "source": [
    "txt = \"Hello World\"\n",
    "print(txt.find('o'))\n",
    "print(txt.find('q'))"
   ]
  },
  {
   "cell_type": "code",
   "execution_count": 76,
   "metadata": {},
   "outputs": [
    {
     "ename": "ValueError",
     "evalue": "substring not found",
     "output_type": "error",
     "traceback": [
      "\u001b[1;31m---------------------------------------------------------------------------\u001b[0m",
      "\u001b[1;31mValueError\u001b[0m                                Traceback (most recent call last)",
      "\u001b[1;32m<ipython-input-76-75d994eb49a2>\u001b[0m in \u001b[0;36m<module>\u001b[1;34m\u001b[0m\n\u001b[1;32m----> 1\u001b[1;33m \u001b[0mtxt\u001b[0m\u001b[1;33m.\u001b[0m\u001b[0mindex\u001b[0m\u001b[1;33m(\u001b[0m\u001b[1;34m'q'\u001b[0m\u001b[1;33m)\u001b[0m\u001b[1;33m\u001b[0m\u001b[1;33m\u001b[0m\u001b[0m\n\u001b[0m",
      "\u001b[1;31mValueError\u001b[0m: substring not found"
     ]
    }
   ],
   "source": [
    "txt.index('q')"
   ]
  },
  {
   "cell_type": "code",
   "execution_count": 82,
   "metadata": {},
   "outputs": [
    {
     "name": "stdout",
     "output_type": "stream",
     "text": [
      "2\n",
      "9\n"
     ]
    }
   ],
   "source": [
    "print(txt.find('l'))\n",
    "print(txt.rfind('l'))\n",
    "# There is no lfind method"
   ]
  },
  {
   "cell_type": "code",
   "execution_count": 91,
   "metadata": {},
   "outputs": [
    {
     "name": "stdout",
     "output_type": "stream",
     "text": [
      "7\n",
      "cricket   \n",
      "10\n"
     ]
    }
   ],
   "source": [
    "print(len(('     cricket   '.strip())))\n",
    "print((('     cricket   '.lstrip())))\n",
    "print(len(('     cricket   '.lstrip())))"
   ]
  },
  {
   "cell_type": "markdown",
   "metadata": {},
   "source": [
    "### expand tabs\n",
    "### It sets the value of \\t whether it should be 1 space, 2 space etc"
   ]
  },
  {
   "cell_type": "code",
   "execution_count": 94,
   "metadata": {},
   "outputs": [
    {
     "data": {
      "text/plain": [
       "'h    e    l    l    o'"
      ]
     },
     "execution_count": 94,
     "metadata": {},
     "output_type": "execute_result"
    }
   ],
   "source": [
    "'h\\te\\tl\\tl\\to'.expandtabs(5)\n",
    "# 5 spaces are given everywhere backslash was used"
   ]
  },
  {
   "cell_type": "markdown",
   "metadata": {},
   "source": [
    "### join\n",
    "#### syntax - string.join(iterable)\n",
    "### join is used to join parts of iterable can be a list or tuple into one string. The string which was passed will be used as as a separator to join\n",
    "\n",
    "# BEST THING TO MAKE A TUPLE/LIST/dictionary INTO A STRING"
   ]
  },
  {
   "cell_type": "code",
   "execution_count": 96,
   "metadata": {},
   "outputs": [
    {
     "data": {
      "text/plain": [
       "'cricket#is#love'"
      ]
     },
     "execution_count": 96,
     "metadata": {},
     "output_type": "execute_result"
    }
   ],
   "source": [
    "'#'.join([\"cricket\",\"is\",\"love\"])"
   ]
  },
  {
   "cell_type": "code",
   "execution_count": 97,
   "metadata": {},
   "outputs": [
    {
     "data": {
      "text/plain": [
       "'aiandml'"
      ]
     },
     "execution_count": 97,
     "metadata": {},
     "output_type": "execute_result"
    }
   ],
   "source": [
    "''.join((\"ai\",\"and\",\"ml\"))"
   ]
  },
  {
   "cell_type": "code",
   "execution_count": 98,
   "metadata": {},
   "outputs": [
    {
     "data": {
      "text/plain": [
       "'ai and ml'"
      ]
     },
     "execution_count": 98,
     "metadata": {},
     "output_type": "execute_result"
    }
   ],
   "source": [
    "' '.join((\"ai\",\"and\",\"ml\"))"
   ]
  },
  {
   "cell_type": "markdown",
   "metadata": {},
   "source": [
    "### if you want to make a dict into string, join will make the keys into strings and not values of dictionary"
   ]
  },
  {
   "cell_type": "code",
   "execution_count": 99,
   "metadata": {},
   "outputs": [
    {
     "data": {
      "text/plain": [
       "'one#two'"
      ]
     },
     "execution_count": 99,
     "metadata": {},
     "output_type": "execute_result"
    }
   ],
   "source": [
    "dict = {'one':'abc','two':'def'}\n",
    "'#'.join(dict)"
   ]
  },
  {
   "cell_type": "markdown",
   "metadata": {},
   "source": [
    "## partition - returns tuple with 3 partions made - before that word searched, the word searched, after the word searched "
   ]
  },
  {
   "cell_type": "code",
   "execution_count": 70,
   "metadata": {},
   "outputs": [
    {
     "data": {
      "text/plain": [
       "(' This is ', 'a', ' wonderful code')"
      ]
     },
     "execution_count": 70,
     "metadata": {},
     "output_type": "execute_result"
    }
   ],
   "source": [
    "str = \" This is a wonderful code\"\n",
    "str.partition('a')"
   ]
  },
  {
   "cell_type": "markdown",
   "metadata": {},
   "source": [
    "## replace - replaces all occurences of old to new. You can \n",
    "\n",
    "### syntax - string.replace(old,new,count)\n",
    "By default count is -1 which means all occurences. You can change it to any number of changes you want"
   ]
  },
  {
   "cell_type": "code",
   "execution_count": 102,
   "metadata": {},
   "outputs": [
    {
     "name": "stdout",
     "output_type": "stream",
     "text": [
      "this is a woneerful coee\n",
      "this is a woneerful code\n"
     ]
    }
   ],
   "source": [
    "str = \"this is a wonderful code\"\n",
    "print(str.replace('d','e'))\n",
    "print(str.replace('d','e',1))"
   ]
  },
  {
   "cell_type": "markdown",
   "metadata": {},
   "source": [
    "## split - splits a string into a list where each word is a list item\n",
    "### string.split(separator,maxsplit)\n",
    "#### maxsplit means the number of splits to do"
   ]
  },
  {
   "cell_type": "code",
   "execution_count": 106,
   "metadata": {},
   "outputs": [
    {
     "name": "stdout",
     "output_type": "stream",
     "text": [
      "['This', 'is', 'a', 'wonderful', 'piece', 'of', 'code']\n",
      "['This is ', ' wonderful piece of code']\n"
     ]
    }
   ],
   "source": [
    "str = \"This is a wonderful piece of code\"\n",
    "print(str.split())\n",
    "print(str.split('a'))\n"
   ]
  },
  {
   "cell_type": "code",
   "execution_count": 107,
   "metadata": {},
   "outputs": [
    {
     "name": "stdout",
     "output_type": "stream",
     "text": [
      "['apples', 'red#bananas#yellow']\n"
     ]
    }
   ],
   "source": [
    "str = \"apples#red#bananas#yellow\"\n",
    "print(str.split('#',1))\n",
    "# 1 here means make 1 split"
   ]
  },
  {
   "cell_type": "code",
   "execution_count": 110,
   "metadata": {},
   "outputs": [
    {
     "data": {
      "text/plain": [
       "['This is line1', 'this is line 2']"
      ]
     },
     "execution_count": 110,
     "metadata": {},
     "output_type": "execute_result"
    }
   ],
   "source": [
    "str = \"This is line1\\nthis is line 2\"\n",
    "str.splitlines()"
   ]
  },
  {
   "cell_type": "code",
   "execution_count": 111,
   "metadata": {},
   "outputs": [
    {
     "data": {
      "text/plain": [
       "'0000000055'"
      ]
     },
     "execution_count": 111,
     "metadata": {},
     "output_type": "execute_result"
    }
   ],
   "source": [
    "str =\"55\"\n",
    "str.zfill(10)"
   ]
  },
  {
   "cell_type": "markdown",
   "metadata": {},
   "source": [
    "# Lists"
   ]
  },
  {
   "cell_type": "markdown",
   "metadata": {},
   "source": [
    "### Defining empty lists"
   ]
  },
  {
   "cell_type": "code",
   "execution_count": 127,
   "metadata": {},
   "outputs": [],
   "source": [
    "listname = []"
   ]
  },
  {
   "cell_type": "code",
   "execution_count": 130,
   "metadata": {},
   "outputs": [
    {
     "data": {
      "text/plain": [
       "4"
      ]
     },
     "execution_count": 130,
     "metadata": {},
     "output_type": "execute_result"
    }
   ],
   "source": [
    "len(['abc',1,2,3])"
   ]
  },
  {
   "cell_type": "markdown",
   "metadata": {},
   "source": [
    "### Slicing lists"
   ]
  },
  {
   "cell_type": "code",
   "execution_count": 131,
   "metadata": {},
   "outputs": [],
   "source": [
    "list = ['Big data','AI','Stats',1,2,3]"
   ]
  },
  {
   "cell_type": "code",
   "execution_count": 132,
   "metadata": {},
   "outputs": [
    {
     "data": {
      "text/plain": [
       "['Big data', 'AI', 'Stats', 1, 2, 3]"
      ]
     },
     "execution_count": 132,
     "metadata": {},
     "output_type": "execute_result"
    }
   ],
   "source": [
    "list[:]"
   ]
  },
  {
   "cell_type": "markdown",
   "metadata": {},
   "source": [
    "# Indexing starts from zero"
   ]
  },
  {
   "cell_type": "code",
   "execution_count": 133,
   "metadata": {},
   "outputs": [
    {
     "data": {
      "text/plain": [
       "'Stats'"
      ]
     },
     "execution_count": 133,
     "metadata": {},
     "output_type": "execute_result"
    }
   ],
   "source": [
    "list[2]"
   ]
  },
  {
   "cell_type": "code",
   "execution_count": 134,
   "metadata": {},
   "outputs": [
    {
     "data": {
      "text/plain": [
       "['Big data', 'AI', 'Stats']"
      ]
     },
     "execution_count": 134,
     "metadata": {},
     "output_type": "execute_result"
    }
   ],
   "source": [
    "list[:3]"
   ]
  },
  {
   "cell_type": "code",
   "execution_count": 135,
   "metadata": {},
   "outputs": [
    {
     "data": {
      "text/plain": [
       "['AI', 'Stats', 1, 2, 3]"
      ]
     },
     "execution_count": 135,
     "metadata": {},
     "output_type": "execute_result"
    }
   ],
   "source": [
    "list[1:]"
   ]
  },
  {
   "cell_type": "code",
   "execution_count": 138,
   "metadata": {},
   "outputs": [
    {
     "name": "stdout",
     "output_type": "stream",
     "text": [
      "['Big data', 'AI', 'Stats', 1, 2]\n",
      "['Big data', 'AI', 'Stats']\n"
     ]
    }
   ],
   "source": [
    "print(list[:-1]) #everything except last\n",
    "print(list[:-3]) #everything except 3rd last"
   ]
  },
  {
   "cell_type": "markdown",
   "metadata": {},
   "source": [
    "## List methods"
   ]
  },
  {
   "cell_type": "markdown",
   "metadata": {},
   "source": [
    " - append() - appends to end of list\n",
    " - clear() - removes all elements of list and makes it empty\n",
    " - copy() - returns a copy of list\n",
    " - count(value) - tells how many times value came in list\n",
    " - l1.extend(iterable) - add all items of iterable (list/tuple) to end of l1 \n",
    " \n",
    " #### extend always adds elements of iterable individually\n",
    " \n",
    " \n",
    " - index(value,start,end) - gives first position of value in list\n",
    " - insert(index,value) - add at specific index the value\n",
    " - pop(index) - pop element from index\n",
    " \n",
    " ### if no index given in pop, it removes last index element\n",
    "\n",
    " \n",
    " - remove(itemname) - remove first occurence of itemname from list\n",
    " - reverse() - reverses order of list\n",
    " \n",
    " ### if you want to remove by index use pop, remove by value use remove\n",
    " \n",
    " \n",
    " - sort(reverse=True|False,key = functionname)\n",
    " \n",
    " #### Default is reverse = False which is ascending, reverse=True is descending\n",
    " #### you can use any function while performing sorting. Like sort list by length of elements of list\n"
   ]
  },
  {
   "cell_type": "code",
   "execution_count": 141,
   "metadata": {},
   "outputs": [
    {
     "name": "stdout",
     "output_type": "stream",
     "text": [
      "['bmw', 'ferrari', 'jaguar', 'rangerover']\n"
     ]
    }
   ],
   "source": [
    "l1 = ['bmw','ferrari']\n",
    "t1=('jaguar','rangerover')\n",
    "l1.extend(t1)\n",
    "print(l1)"
   ]
  },
  {
   "cell_type": "code",
   "execution_count": 142,
   "metadata": {},
   "outputs": [
    {
     "data": {
      "text/plain": [
       "2"
      ]
     },
     "execution_count": 142,
     "metadata": {},
     "output_type": "execute_result"
    }
   ],
   "source": [
    "l1.index('jaguar')"
   ]
  },
  {
   "cell_type": "code",
   "execution_count": 145,
   "metadata": {},
   "outputs": [
    {
     "data": {
      "text/plain": [
       "['bmw', 'mahindra', 'ferrari', 'jaguar', 'rangerover']"
      ]
     },
     "execution_count": 145,
     "metadata": {},
     "output_type": "execute_result"
    }
   ],
   "source": [
    "l1.insert(1,'mahindra')\n",
    "l1"
   ]
  },
  {
   "cell_type": "code",
   "execution_count": 146,
   "metadata": {},
   "outputs": [
    {
     "data": {
      "text/plain": [
       "['Hyundai', 'bmw', 'mahindra', 'ferrari', 'jaguar', 'rangerover']"
      ]
     },
     "execution_count": 146,
     "metadata": {},
     "output_type": "execute_result"
    }
   ],
   "source": [
    "l1.insert(0,'Hyundai')\n",
    "l1"
   ]
  },
  {
   "cell_type": "code",
   "execution_count": 147,
   "metadata": {},
   "outputs": [
    {
     "data": {
      "text/plain": [
       "['Hyundai', 'mahindra', 'ferrari', 'jaguar', 'rangerover']"
      ]
     },
     "execution_count": 147,
     "metadata": {},
     "output_type": "execute_result"
    }
   ],
   "source": [
    "l1.pop(1)\n",
    "l1"
   ]
  },
  {
   "cell_type": "code",
   "execution_count": 148,
   "metadata": {},
   "outputs": [
    {
     "data": {
      "text/plain": [
       "['mahindra', 'ferrari', 'jaguar', 'rangerover']"
      ]
     },
     "execution_count": 148,
     "metadata": {},
     "output_type": "execute_result"
    }
   ],
   "source": [
    "l1.remove('Hyundai')\n",
    "l1"
   ]
  },
  {
   "cell_type": "markdown",
   "metadata": {},
   "source": [
    "### Below is using key in sorting method - sort in ascending order via length of elements of list"
   ]
  },
  {
   "cell_type": "code",
   "execution_count": 151,
   "metadata": {},
   "outputs": [
    {
     "data": {
      "text/plain": [
       "['jaguar', 'ferrari', 'mahindra', 'rangerover']"
      ]
     },
     "execution_count": 151,
     "metadata": {},
     "output_type": "execute_result"
    }
   ],
   "source": [
    "def lengthcalc(e):\n",
    "    return len(e)\n",
    "l1.sort(key=lengthcalc)\n",
    "l1"
   ]
  },
  {
   "cell_type": "markdown",
   "metadata": {},
   "source": [
    "### You can also sort keys of a dictionary "
   ]
  },
  {
   "cell_type": "markdown",
   "metadata": {},
   "source": [
    "# Sets\n"
   ]
  },
  {
   "cell_type": "markdown",
   "metadata": {},
   "source": [
    "## Sets are unordered collection of data, mutable. Only thing is items cant be repeated in sets\n",
    "\n",
    "#### sets are represented using {} curly braces"
   ]
  },
  {
   "cell_type": "code",
   "execution_count": 1,
   "metadata": {},
   "outputs": [],
   "source": [
    "set = set()"
   ]
  },
  {
   "cell_type": "code",
   "execution_count": 15,
   "metadata": {},
   "outputs": [
    {
     "data": {
      "text/plain": [
       "set"
      ]
     },
     "execution_count": 15,
     "metadata": {},
     "output_type": "execute_result"
    }
   ],
   "source": [
    "set = {'mahindra','tata','mercedes'}\n",
    "type(set)"
   ]
  },
  {
   "cell_type": "code",
   "execution_count": 6,
   "metadata": {},
   "outputs": [
    {
     "data": {
      "text/plain": [
       "{'mahindra', 'mercedes', 'tata'}"
      ]
     },
     "execution_count": 6,
     "metadata": {},
     "output_type": "execute_result"
    }
   ],
   "source": [
    "set"
   ]
  },
  {
   "cell_type": "markdown",
   "metadata": {},
   "source": [
    "#### sets cannot be indexed. You cant slice them\n",
    "#### To retrieve set  items you either need to convert them to list - list(setname) or you use next() and interator methods"
   ]
  },
  {
   "cell_type": "code",
   "execution_count": 7,
   "metadata": {},
   "outputs": [],
   "source": [
    "set.add('toyota')"
   ]
  },
  {
   "cell_type": "code",
   "execution_count": 10,
   "metadata": {},
   "outputs": [
    {
     "data": {
      "text/plain": [
       "{'mahindra', 'mercedes', 'tata'}"
      ]
     },
     "execution_count": 10,
     "metadata": {},
     "output_type": "execute_result"
    }
   ],
   "source": [
    "set1 = set\n",
    "set2 ={'toyota','kia','volkswagen'}\n",
    "set1.difference(set2)"
   ]
  },
  {
   "cell_type": "markdown",
   "metadata": {},
   "source": [
    "### set1 still remains same until you use difference_update"
   ]
  },
  {
   "cell_type": "markdown",
   "metadata": {},
   "source": [
    "### same concept with intersection_update"
   ]
  },
  {
   "cell_type": "markdown",
   "metadata": {},
   "source": [
    "# Dictionaries"
   ]
  },
  {
   "cell_type": "markdown",
   "metadata": {},
   "source": [
    "### dictionaries are unordered collection, can be indexed, are represented in form of key value pairs\n",
    "\n",
    "### Both sets and dictionaries are represented by {}. But the kind of data they both hold are different. Sets hold unique elements separated by commas but dict. uses key value pairs"
   ]
  },
  {
   "cell_type": "code",
   "execution_count": 20,
   "metadata": {},
   "outputs": [
    {
     "data": {
      "text/plain": [
       "{'a': 1, 'b': 2}"
      ]
     },
     "execution_count": 20,
     "metadata": {},
     "output_type": "execute_result"
    }
   ],
   "source": [
    "dict1 = {'a':1,'b':2}\n",
    "dict1"
   ]
  },
  {
   "cell_type": "code",
   "execution_count": 22,
   "metadata": {},
   "outputs": [
    {
     "data": {
      "text/plain": [
       "1"
      ]
     },
     "execution_count": 22,
     "metadata": {},
     "output_type": "execute_result"
    }
   ],
   "source": [
    "## Access items based on keys\n",
    "dict['a']"
   ]
  },
  {
   "cell_type": "code",
   "execution_count": 24,
   "metadata": {},
   "outputs": [
    {
     "name": "stdout",
     "output_type": "stream",
     "text": [
      "a\n",
      "b\n"
     ]
    }
   ],
   "source": [
    "#print dictionary keys\n",
    "for x in dict1:\n",
    "    print(x)"
   ]
  },
  {
   "cell_type": "code",
   "execution_count": 26,
   "metadata": {},
   "outputs": [
    {
     "name": "stdout",
     "output_type": "stream",
     "text": [
      "1\n",
      "2\n"
     ]
    }
   ],
   "source": [
    "# print dictionary values\n",
    "for x in dict1.values():\n",
    "    print(x)"
   ]
  },
  {
   "cell_type": "markdown",
   "metadata": {},
   "source": [
    "#### use dictionary.items() to get both key and value."
   ]
  },
  {
   "cell_type": "code",
   "execution_count": 30,
   "metadata": {},
   "outputs": [
    {
     "name": "stdout",
     "output_type": "stream",
     "text": [
      "('a', 1) <class 'tuple'>\n",
      "('b', 2) <class 'tuple'>\n",
      "('c', 3) <class 'tuple'>\n"
     ]
    }
   ],
   "source": [
    "#print dictionary keys and values\n",
    "for x in dict1.items():\n",
    "    print(x,type(x))\n",
    "#returns tuple of key value pair"
   ]
  },
  {
   "cell_type": "code",
   "execution_count": 28,
   "metadata": {},
   "outputs": [],
   "source": [
    "#adding new key value pair\n",
    "dict1['c'] = 3"
   ]
  },
  {
   "cell_type": "code",
   "execution_count": 29,
   "metadata": {},
   "outputs": [
    {
     "data": {
      "text/plain": [
       "{'a': 1, 'b': 2, 'c': 3}"
      ]
     },
     "execution_count": 29,
     "metadata": {},
     "output_type": "execute_result"
    }
   ],
   "source": [
    "dict1"
   ]
  },
  {
   "cell_type": "code",
   "execution_count": 32,
   "metadata": {},
   "outputs": [],
   "source": [
    "dict1['c'] = 4\n",
    "#old value gets overridden"
   ]
  },
  {
   "cell_type": "code",
   "execution_count": 33,
   "metadata": {},
   "outputs": [
    {
     "data": {
      "text/plain": [
       "{'a': 1, 'b': 2, 'c': 4}"
      ]
     },
     "execution_count": 33,
     "metadata": {},
     "output_type": "execute_result"
    }
   ],
   "source": [
    "dict1"
   ]
  },
  {
   "cell_type": "markdown",
   "metadata": {},
   "source": [
    "## Nested dictionary"
   ]
  },
  {
   "cell_type": "code",
   "execution_count": 34,
   "metadata": {},
   "outputs": [
    {
     "data": {
      "text/plain": [
       "{'var1': {'a': 1, 'b': 2, 'c': 4}, 'var2': {'d': 5, 'e': 6}}"
      ]
     },
     "execution_count": 34,
     "metadata": {},
     "output_type": "execute_result"
    }
   ],
   "source": [
    "dict2 = {'d':5,'e':6}\n",
    "dict = {'var1':dict1,'var2':dict2}\n",
    "dict"
   ]
  },
  {
   "cell_type": "code",
   "execution_count": 36,
   "metadata": {},
   "outputs": [
    {
     "data": {
      "text/plain": [
       "2"
      ]
     },
     "execution_count": 36,
     "metadata": {},
     "output_type": "execute_result"
    }
   ],
   "source": [
    "#indexing a nested dictionary\n",
    "dict['var1']['b']"
   ]
  },
  {
   "cell_type": "markdown",
   "metadata": {},
   "source": [
    "### Dictionary methods\n",
    "\n",
    "- clear() - removes all elements of dictionary, returns empty dictionary\n",
    "- copy() - returns a copy of dictionary\n",
    "- fromkeys(iterable,value) - Creates a dictionary using iterable as key and value as given. If no values are given for the keys, it takes None\n",
    "\n",
    "#### fromkeys assigns same value for all keys\n",
    "\n",
    "- get(key,defaultvalue) - used to get value of the given key. If the key doesnt exist, defaultvalue can be printed. If you dont give a default value then it returns a None datatype\n",
    "\n",
    "- setdeafult(keyname,defaultvalue) - same as get, it fetches value of gievn keyname. But unlike get if key not found not only it shows default value in output console but it adds a new key value pair with the passed keyname , default value\n",
    "\n",
    "- items() - returns a tuple of all key value pairs\n",
    "- keys() - returns a view object containing keys\n",
    "- values() - returns a list of values of dictionary\n",
    "- pop(key, defaultvalue) - removes key value pair for given key. Prints default value if key doesnt exist\n",
    "- popitem() - removes last inserted item\n",
    "- update({'key':'value'}) - inserts passed key value pairs to dictionary. it takes a dictionary of key value pair as input"
   ]
  },
  {
   "cell_type": "code",
   "execution_count": 42,
   "metadata": {},
   "outputs": [
    {
     "data": {
      "text/plain": [
       "{'ai': [1, 2, 3], 'ml': [1, 2, 3], 'databases': [1, 2, 3]}"
      ]
     },
     "execution_count": 42,
     "metadata": {},
     "output_type": "execute_result"
    }
   ],
   "source": [
    "#fromkeys\n",
    "iterable = ['ai','ml','databases']\n",
    "values = [1,2,3]\n",
    "dict_var= dict.fromkeys(iterable,values)\n",
    "dict_var"
   ]
  },
  {
   "cell_type": "code",
   "execution_count": 39,
   "metadata": {},
   "outputs": [
    {
     "data": {
      "text/plain": [
       "{'ai': None, 'ml': None}"
      ]
     },
     "execution_count": 39,
     "metadata": {},
     "output_type": "execute_result"
    }
   ],
   "source": [
    "dict_var = dict.fromkeys(['ai','ml','ai'])\n",
    "dict_var"
   ]
  },
  {
   "cell_type": "code",
   "execution_count": 45,
   "metadata": {},
   "outputs": [
    {
     "name": "stdout",
     "output_type": "stream",
     "text": [
      "[1, 2, 3]\n",
      "None\n",
      "5\n"
     ]
    }
   ],
   "source": [
    "#get\n",
    "print(dict_var.get('ai'))\n",
    "print(dict_var.get('cse')) #no cse key\n",
    "print(dict_var.get('cse',5)) # 5 given as default value if cse doesnt exist"
   ]
  },
  {
   "cell_type": "code",
   "execution_count": 47,
   "metadata": {},
   "outputs": [
    {
     "data": {
      "text/plain": [
       "dict_keys"
      ]
     },
     "execution_count": 47,
     "metadata": {},
     "output_type": "execute_result"
    }
   ],
   "source": [
    "type(dict_var.keys())"
   ]
  },
  {
   "cell_type": "code",
   "execution_count": 52,
   "metadata": {},
   "outputs": [
    {
     "name": "stdout",
     "output_type": "stream",
     "text": [
      "5\n"
     ]
    }
   ],
   "source": [
    "print(dict_var.pop('python',5))\n",
    "#if you dont give default value it throws error"
   ]
  },
  {
   "cell_type": "code",
   "execution_count": 53,
   "metadata": {},
   "outputs": [
    {
     "data": {
      "text/plain": [
       "('databases', [1, 2, 3])"
      ]
     },
     "execution_count": 53,
     "metadata": {},
     "output_type": "execute_result"
    }
   ],
   "source": [
    "#popitem\n",
    "dict_var.popitem()\n",
    "#databases popped"
   ]
  },
  {
   "cell_type": "code",
   "execution_count": 54,
   "metadata": {},
   "outputs": [
    {
     "data": {
      "text/plain": [
       "{'ai': [1, 2, 3], 'ml': [1, 2, 3]}"
      ]
     },
     "execution_count": 54,
     "metadata": {},
     "output_type": "execute_result"
    }
   ],
   "source": [
    "dict_var"
   ]
  },
  {
   "cell_type": "code",
   "execution_count": 56,
   "metadata": {},
   "outputs": [
    {
     "data": {
      "text/plain": [
       "{'ai': [1, 2, 3], 'ml': [1, 2, 3], 'databases': 4}"
      ]
     },
     "execution_count": 56,
     "metadata": {},
     "output_type": "execute_result"
    }
   ],
   "source": [
    "#set_default\n",
    "dict_var.setdefault('databases',4)\n",
    "dict_var\n",
    "#since databases was not a present key, it added the passed key value pair"
   ]
  },
  {
   "cell_type": "code",
   "execution_count": 59,
   "metadata": {},
   "outputs": [
    {
     "data": {
      "text/plain": [
       "{'ai': [1, 2, 3], 'ml': [1, 2, 3], 'databases': 4, 'cloud': 5}"
      ]
     },
     "execution_count": 59,
     "metadata": {},
     "output_type": "execute_result"
    }
   ],
   "source": [
    "#update\n",
    "dict_var.update({'cloud':5})\n",
    "dict_var"
   ]
  },
  {
   "cell_type": "markdown",
   "metadata": {},
   "source": [
    "# Tuples"
   ]
  },
  {
   "cell_type": "markdown",
   "metadata": {},
   "source": [
    "## Tuples are immutable collection of items. Items can be strings, lists etc"
   ]
  },
  {
   "cell_type": "code",
   "execution_count": 62,
   "metadata": {},
   "outputs": [
    {
     "data": {
      "text/plain": [
       "('ai', 1)"
      ]
     },
     "execution_count": 62,
     "metadata": {},
     "output_type": "execute_result"
    }
   ],
   "source": [
    "tuple_var = ('ai',1)\n",
    "tuple_var"
   ]
  },
  {
   "cell_type": "code",
   "execution_count": 63,
   "metadata": {},
   "outputs": [
    {
     "data": {
      "text/plain": [
       "'ai'"
      ]
     },
     "execution_count": 63,
     "metadata": {},
     "output_type": "execute_result"
    }
   ],
   "source": [
    "tuple_var[0]"
   ]
  },
  {
   "cell_type": "code",
   "execution_count": 64,
   "metadata": {},
   "outputs": [
    {
     "ename": "TypeError",
     "evalue": "'tuple' object does not support item assignment",
     "output_type": "error",
     "traceback": [
      "\u001b[1;31m---------------------------------------------------------------------------\u001b[0m",
      "\u001b[1;31mTypeError\u001b[0m                                 Traceback (most recent call last)",
      "\u001b[1;32m<ipython-input-64-39b838198212>\u001b[0m in \u001b[0;36m<module>\u001b[1;34m\u001b[0m\n\u001b[1;32m----> 1\u001b[1;33m \u001b[0mtuple_var\u001b[0m\u001b[1;33m[\u001b[0m\u001b[1;36m0\u001b[0m\u001b[1;33m]\u001b[0m\u001b[1;33m=\u001b[0m \u001b[1;34m'cloud'\u001b[0m\u001b[1;33m\u001b[0m\u001b[1;33m\u001b[0m\u001b[0m\n\u001b[0m",
      "\u001b[1;31mTypeError\u001b[0m: 'tuple' object does not support item assignment"
     ]
    }
   ],
   "source": [
    "tuple_var[0]= 'cloud'\n",
    "#Tuples are immutable"
   ]
  },
  {
   "cell_type": "markdown",
   "metadata": {},
   "source": [
    "### Try to use tuples to store data which doesn't change frequently - like latitude and longitude of your home"
   ]
  },
  {
   "cell_type": "markdown",
   "metadata": {},
   "source": [
    "### Tuple only has 2 methods:\n",
    "- count() - used to give count of a given value\n",
    "- index() - gives positional in/dex of a value"
   ]
  },
  {
   "cell_type": "code",
   "execution_count": 69,
   "metadata": {},
   "outputs": [
    {
     "name": "stdout",
     "output_type": "stream",
     "text": [
      "1\n",
      "1\n"
     ]
    }
   ],
   "source": [
    "print(tuple_var.count(1))\n",
    "print(tuple_var.index(1))"
   ]
  },
  {
   "cell_type": "code",
   "execution_count": null,
   "metadata": {},
   "outputs": [],
   "source": []
  }
 ],
 "metadata": {
  "kernelspec": {
   "display_name": "Python 3",
   "language": "python",
   "name": "python3"
  },
  "language_info": {
   "codemirror_mode": {
    "name": "ipython",
    "version": 3
   },
   "file_extension": ".py",
   "mimetype": "text/x-python",
   "name": "python",
   "nbconvert_exporter": "python",
   "pygments_lexer": "ipython3",
   "version": "3.8.3"
  }
 },
 "nbformat": 4,
 "nbformat_minor": 4
}
